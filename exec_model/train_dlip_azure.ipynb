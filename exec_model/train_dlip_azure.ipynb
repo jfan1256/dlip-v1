{
 "cells": [
  {
   "cell_type": "markdown",
   "id": "95775eec-2b90-47af-8f51-f5b44c775e18",
   "metadata": {},
   "source": [
    "#### Import Package"
   ]
  },
  {
   "cell_type": "code",
   "execution_count": null,
   "id": "cac75d28-8df7-41d3-a25b-27b0f1be0670",
   "metadata": {},
   "outputs": [],
   "source": [
    "import webbrowser\n",
    "\n",
    "from azure.identity import DefaultAzureCredential, InteractiveBrowserCredential\n",
    "from azure.ai.ml import MLClient\n",
    "from azure.ai.ml.entities import AmlCompute\n",
    "from azure.ai.ml import command\n",
    "from azure.ai.ml import Input\n",
    "from azure.ai.ml.entities import ResourceConfiguration"
   ]
  },
  {
   "cell_type": "markdown",
   "id": "e7b47258-64ce-4ca2-bbd0-b4fd16bd3dff",
   "metadata": {},
   "source": [
    "#### Connect to AzureML"
   ]
  },
  {
   "cell_type": "code",
   "execution_count": null,
   "id": "f9e1a3bd-04ac-4c80-ae62-6303b0a1b325",
   "metadata": {},
   "outputs": [],
   "source": [
    "credential = DefaultAzureCredential()\n",
    "credential.get_token(\"https://management.azure.com/.default\")"
   ]
  },
  {
   "cell_type": "code",
   "execution_count": null,
   "id": "7b30415a-8b35-418d-8f93-12a419a61e5e",
   "metadata": {},
   "outputs": [],
   "source": [
    "# Initalize a client to connect to Azure Workspace\n",
    "ml_client = MLClient(\n",
    "    subscription_id=\"<SUBSCRIPTION_ID>\",\n",
    "    resource_group_name=\"<RESOURCE_GROUP>\",\n",
    "    workspace_name=\"<AML_WORKSPACE_NAME>\",\n",
    "    credential=credential,\n",
    ")\n",
    "\n",
    "cpu_cluster = None\n",
    "gpu_cluster = None"
   ]
  },
  {
   "cell_type": "markdown",
   "id": "d0331ec5-014f-47d5-929b-31477deb1365",
   "metadata": {},
   "source": [
    "#### Create CPU Cluster"
   ]
  },
  {
   "cell_type": "code",
   "execution_count": null,
   "id": "2d9d62f1-e7fb-4607-9b10-d8be967b5e86",
   "metadata": {},
   "outputs": [],
   "source": [
    "cpu_compute_target = \"cpu-cluster\"\n",
    "\n",
    "try:\n",
    "    # Initialize preexisting CPU cluster\n",
    "    cpu_cluster = ml_client.compute.get(cpu_compute_target)\n",
    "    print(f\"Reusing {cpu_compute_target}...\")\n",
    "\n",
    "except:\n",
    "    # Initialize new CPU cluster\n",
    "    print(\"Creating a new cpu compute target...\")\n",
    "\n",
    "    cpu_cluster = AmlCompute(\n",
    "        name=\"cpu-cluster\",\n",
    "        type=\"amlcompute\",\n",
    "        size=\"STANDARD_DS3_V2\",\n",
    "        min_instances=0,\n",
    "        max_instances=4,\n",
    "        idle_time_before_scale_down=180,\n",
    "        tier=\"Dedicated\",\n",
    "    )\n",
    "\n",
    "    cpu_cluster = ml_client.begin_create_or_update(cpu_cluster)\n",
    "\n",
    "print(f\"AMLCompute with name {cpu_cluster.name} is created, the compute size is {cpu_cluster.size}\")"
   ]
  },
  {
   "cell_type": "markdown",
   "id": "ae71320c-07a8-466d-91f1-6084371591d1",
   "metadata": {},
   "source": [
    "#### Create GPU Cluster"
   ]
  },
  {
   "cell_type": "code",
   "execution_count": null,
   "id": "688d281b-0c66-4d3c-bd68-2b2bb1b992cd",
   "metadata": {},
   "outputs": [],
   "source": [
    "gpu_compute_target = \"gpu-cluster\"\n",
    "\n",
    "try:\n",
    "    # Initialize preexisting GPU cluster\n",
    "    gpu_cluster = ml_client.compute.get(gpu_compute_target)\n",
    "    print(f\"Reusing {gpu_compute_target}...\")\n",
    "\n",
    "except:\n",
    "    # Initialize new CPU cluster\n",
    "    print(\"Creating a new gpu compute target...\")\n",
    "\n",
    "    gpu_cluster = AmlCompute(\n",
    "        name=\"gpu-cluster\",\n",
    "        type=\"amlcompute\",\n",
    "        size=\"STANDARD_NC6s_v3\",\n",
    "        min_instances=0,\n",
    "        max_instances=4,\n",
    "        idle_time_before_scale_down=180,\n",
    "        tier=\"Dedicated\",\n",
    "    )\n",
    "\n",
    "    gpu_cluster = ml_client.begin_create_or_update(gpu_cluster)\n",
    "\n",
    "print(f\"AMLCompute with name {gpu_cluster.name} is created, the compute size is {gpu_cluster.size}\")"
   ]
  },
  {
   "cell_type": "markdown",
   "id": "eb72b6db-ec85-4497-af3a-6f0fd770fb29",
   "metadata": {},
   "source": [
    "#### Define Train Job"
   ]
  },
  {
   "cell_type": "code",
   "execution_count": null,
   "id": "8bdd8b70-dd1f-47d2-8f74-43544ee32411",
   "metadata": {},
   "outputs": [],
   "source": [
    "training_job = command(\n",
    "    # Path to train\n",
    "    code=\"./src/pytorch_dl_train/\",\n",
    "    \n",
    "    # Command to pass\n",
    "    command=\"python dlip_train.py\",\n",
    "    \n",
    "    # Environment\n",
    "    environment=\"AzureML-pytorch-1.10-ubuntu18.04-py38-cuda11-gpu@latest\",\n",
    "    \n",
    "    # Compute\n",
    "    compute=\"gpu-cluster\"\n",
    "    \n",
    "    # Number of GPU's\n",
    "    distribution={\n",
    "        \"type\": \"PyTorch\",\n",
    "        \"process_count_per_instance\": 1,\n",
    "    },\n",
    "    \n",
    "    # Instance Count\n",
    "    instance_count=2,\n",
    "    \n",
    "    # Display Name and Description\n",
    "    display_name=\"shade_dlip_training\",\n",
    "    description=\"Training dlip\",\n",
    ")"
   ]
  },
  {
   "cell_type": "markdown",
   "id": "3011d915-65a5-4da5-abca-06cbbf9abcfb",
   "metadata": {},
   "source": [
    "#### Submit Train Job"
   ]
  },
  {
   "cell_type": "code",
   "execution_count": null,
   "id": "f650a79c-6fd1-44af-bcf7-ba309c8884ca",
   "metadata": {},
   "outputs": [],
   "source": [
    "# Submit the job\n",
    "returned_job = ml_client.jobs.create_or_update(\n",
    "    training_job,\n",
    "    experiment_name=\"shade_dlip\",\n",
    ")\n",
    "\n",
    "# URL for the status of the job\n",
    "print(\"Url to see live job running (sdk returned):\")\n",
    "print(returned_job.studio_url)\n",
    "webbrowser.open(returned_job.studio_url)\n",
    "\n",
    "# Pipeline run id\n",
    "print(\n",
    "    f\"Pipeline details: {returned_job.name}\"\n",
    ")"
   ]
  }
 ],
 "metadata": {
  "kernelspec": {
   "display_name": "dlip",
   "language": "python",
   "name": "dlip"
  },
  "language_info": {
   "codemirror_mode": {
    "name": "ipython",
    "version": 3
   },
   "file_extension": ".py",
   "mimetype": "text/x-python",
   "name": "python",
   "nbconvert_exporter": "python",
   "pygments_lexer": "ipython3",
   "version": "3.10.13"
  }
 },
 "nbformat": 4,
 "nbformat_minor": 5
}
