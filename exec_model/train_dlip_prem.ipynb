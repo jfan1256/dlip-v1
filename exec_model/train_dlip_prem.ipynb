{
 "cells": [
  {
   "cell_type": "markdown",
   "id": "f300881d-4571-4a3c-96c8-fff25dfb3db7",
   "metadata": {},
   "source": [
    "#### Import Package"
   ]
  },
  {
   "cell_type": "code",
   "execution_count": null,
   "id": "3aa1a281-e4fe-46df-8809-5403981b0bf8",
   "metadata": {
    "tags": []
   },
   "outputs": [],
   "source": [
    "import os\n",
    "import json\n",
    "import torch\n",
    "import torch.multiprocessing as mp\n",
    "import matplotlib.pyplot as plt\n",
    "\n",
    "from class_train.dlip_train import DLIPTrain\n",
    "from utils.system import get_config\n",
    "\n",
    "os.environ['CUDA_LAUNCH_BLOCKING'] = \"1\""
   ]
  },
  {
   "cell_type": "markdown",
   "id": "789c5551-13f4-4079-b934-4f1ad5d1a62e",
   "metadata": {},
   "source": [
    "#### Get GPU"
   ]
  },
  {
   "cell_type": "markdown",
   "id": "0ae56412-50d6-4709-a5c0-975e1135803d",
   "metadata": {},
   "source": [
    "##### Run this command to use CUDA 11.8 or Above (I have CUDA 12.1 installed)\n",
    "pip3 install torch torchvision torchaudio --index-url https://download.pytorch.org/whl/cu118"
   ]
  },
  {
   "cell_type": "code",
   "execution_count": null,
   "id": "7114bc4e-753d-4b1f-a373-a00682751c57",
   "metadata": {},
   "outputs": [],
   "source": [
    "# Get Device and Number of Devices\n",
    "device = torch.device(\"cuda\" if torch.cuda.is_available() else \"cpu\")\n",
    "if torch.cuda.is_available():\n",
    "    num_devices = torch.cuda.device_count()\n",
    "    for i in range(num_devices):\n",
    "        print(f\"CUDA Device {i}: {torch.cuda.get_device_name(i)}\")\n",
    "else:\n",
    "    print(f\"Using: {device}\")"
   ]
  },
  {
   "cell_type": "markdown",
   "id": "bf2657e7-59e5-4e9f-a51c-2ff1b08f267f",
   "metadata": {},
   "source": [
    "#### Train"
   ]
  },
  {
   "cell_type": "code",
   "execution_count": null,
   "id": "ca6fec19-5a5d-43dd-8b45-11ed301c8478",
   "metadata": {
    "tags": []
   },
   "outputs": [],
   "source": [
    "# Params\n",
    "param = json.load(open(get_config() / 'train_config.json'))\n",
    "\n",
    "# DLIPTrain\n",
    "dlip_train = DLIPTrain(azure=param['azure'], \n",
    "                       connection_string=param['connection_string'],\n",
    "                       container_name=param['container_name'], \n",
    "                       multi=param['multi'], \n",
    "                       ddp_server=param['ddp_server'],\n",
    "                       queue_size=param['queue_size'], \n",
    "                       image_size=param['image_size'],\n",
    "                       batch_size=param['batch_size'], \n",
    "                       world_size=param['world_size'],\n",
    "                       partial=param['partial'],\n",
    "                       val_split=param['val_split'], \n",
    "                       device=param['device'],\n",
    "                       scheduler=param['scheduler'],\n",
    "                       warmup_steps=param['warmup_steps'], \n",
    "                       warmup_lr=param['warmup_lr'],\n",
    "                       min_lr=param['min_lr'],\n",
    "                       lr_decay_rate=param['lr_decay_rate'],\n",
    "                       dlip_bert_pretrain=param['dlip_bert_pretrain'],\n",
    "                       dlip_bert=param['dlip_bert'], \n",
    "                       dlip_vit=param['dlip_vit'], \n",
    "                       dlip_blip=param['dlip_blip'],\n",
    "                       alpha=param['alpha'],\n",
    "                       accumulate=param['accumulate'], \n",
    "                       learning_rate=param['learning_rate'],\n",
    "                       weight_decay=param['weight_decay'],\n",
    "                       checkpoint_epoch=param['checkpoint_epoch'],\n",
    "                       num_epoch=param['num_epoch'], \n",
    "                       freeze=param['freeze'], \n",
    "                       gradient_clip=param['gradient_clip'],\n",
    "                       print=param['print']\n",
    "                       )"
   ]
  },
  {
   "cell_type": "code",
   "execution_count": null,
   "id": "fe5e4c70-aaac-4c92-8161-2e5e665e7b00",
   "metadata": {
    "tags": []
   },
   "outputs": [],
   "source": [
    "%matplotlib inline"
   ]
  },
  {
   "cell_type": "code",
   "execution_count": null,
   "id": "baf97614-81f3-4b4e-878f-aead249ef42e",
   "metadata": {
    "tags": []
   },
   "outputs": [],
   "source": [
    "# Train\n",
    "if param['multi'] == \"True\":\n",
    "    mp.spawn(\n",
    "        dlip_train.train,\n",
    "        args=(),\n",
    "        nprocs=dlip_train.world_size\n",
    "    )\n",
    "else:\n",
    "    train_losses_itm, train_losses_ita, train_losses_caption, train_losses_dist, val_losses_itm, val_losses_ita, val_losses_caption, val_losses_dist = dlip_train.train(0)"
   ]
  },
  {
   "cell_type": "markdown",
   "id": "c4bff68d-8729-446a-a961-f04ab25a207f",
   "metadata": {},
   "source": [
    "#### Plot Loss"
   ]
  },
  {
   "cell_type": "code",
   "execution_count": null,
   "id": "351ec6de-7743-487b-9dff-27602abf277f",
   "metadata": {},
   "outputs": [],
   "source": [
    "# Plot Loss\n",
    "def plot_loss(loss, title):\n",
    "    plt.figure(figsize=(20, 6))\n",
    "    plt.plot(loss, label=title)\n",
    "    plt.xlabel('Epochs')\n",
    "    plt.ylabel('Loss')\n",
    "    plt.title(f'{title} per Iteration')\n",
    "    plt.legend()\n",
    "    plt.show()"
   ]
  },
  {
   "cell_type": "code",
   "execution_count": null,
   "id": "af57df51-a340-47ae-b898-19a527d17272",
   "metadata": {
    "tags": []
   },
   "outputs": [],
   "source": [
    "# Plot loss\n",
    "plot_loss(train_losses_itm, 'Loss ITM')\n",
    "plot_loss(train_losses_ita, 'Loss ITA')\n",
    "plot_loss(train_losses_caption, 'Loss Caption')\n",
    "plot_loss(train_losses_attn, 'Loss Attention')\n",
    "plot_loss(train_losses_hr, 'Loss Hidden Representation')"
   ]
  }
 ],
 "metadata": {
  "kernelspec": {
   "display_name": "dlip",
   "language": "python",
   "name": "dlip"
  },
  "language_info": {
   "codemirror_mode": {
    "name": "ipython",
    "version": 3
   },
   "file_extension": ".py",
   "mimetype": "text/x-python",
   "name": "python",
   "nbconvert_exporter": "python",
   "pygments_lexer": "ipython3",
   "version": "3.10.13"
  }
 },
 "nbformat": 4,
 "nbformat_minor": 5
}
