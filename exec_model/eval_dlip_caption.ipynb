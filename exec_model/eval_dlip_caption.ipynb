{
 "cells": [
  {
   "cell_type": "markdown",
   "id": "76ddf7be-ddd6-49d5-b847-8666f42435a7",
   "metadata": {},
   "source": [
    "#### Import Package"
   ]
  },
  {
   "cell_type": "code",
   "execution_count": null,
   "id": "3aa1a281-e4fe-46df-8809-5403981b0bf8",
   "metadata": {},
   "outputs": [],
   "source": [
    "import torch\n",
    "import json\n",
    "import matplotlib.pyplot as plt\n",
    "\n",
    "from utils.system import get_config, get_data\n",
    "from class_eval.dlip_caption_eval import DLIPCaptionEval"
   ]
  },
  {
   "cell_type": "code",
   "execution_count": null,
   "id": "7114bc4e-753d-4b1f-a373-a00682751c57",
   "metadata": {},
   "outputs": [],
   "source": [
    "# Get Device and Number of Devices\n",
    "device = torch.device(\"cuda:1\" if torch.cuda.is_available() else \"cpu\")\n",
    "if torch.cuda.is_available():\n",
    "    num_devices = torch.cuda.device_count()\n",
    "    for i in range(num_devices):\n",
    "        print(f\"CUDA Device {i}: {torch.cuda.get_device_name(i)}\")\n",
    "else:\n",
    "    print(f\"Using: {device}\")"
   ]
  },
  {
   "cell_type": "markdown",
   "id": "902cbb91-2358-4123-83ff-4c2e69686371",
   "metadata": {},
   "source": [
    "#### Evaluate"
   ]
  },
  {
   "cell_type": "code",
   "execution_count": null,
   "id": "0d5b6052-135c-417f-aa8f-53c1b02a23ea",
   "metadata": {
    "tags": []
   },
   "outputs": [],
   "source": [
    "# Params\n",
    "param = json.load(open(get_config() / 'tune_config.json'))\n",
    "epoch_number = '20'\n",
    "dlip_bert = param['dlip_bert']\n",
    "dlip_vit = param['dlip_vit']\n",
    "partial = \"True\"\n",
    "val_split = 0"
   ]
  },
  {
   "cell_type": "code",
   "execution_count": null,
   "id": "7b1cf575-9e74-4e64-bf7f-efaf9b2b96a2",
   "metadata": {},
   "outputs": [],
   "source": [
    "# DLIPCaptionEval\n",
    "dlip_caption_eval = DLIPCaptionEval(device=device, epoch_number=epoch_number, dlip_vit=dlip_vit, dlip_bert=dlip_bert, partial=partial, val_split=val_split)"
   ]
  },
  {
   "cell_type": "code",
   "execution_count": null,
   "id": "346be93c-b8f4-4261-a5ae-a0129535f1b3",
   "metadata": {
    "tags": []
   },
   "outputs": [],
   "source": [
    "# Evaluate\n",
    "evaluate, val_losses_caption = dlip_caption_eval.evaluate()"
   ]
  },
  {
   "cell_type": "code",
   "execution_count": null,
   "id": "b6b6b830-4031-4e0e-b0ea-1acd0ddcc29b",
   "metadata": {
    "tags": []
   },
   "outputs": [],
   "source": [
    "# Display\n",
    "evaluate.head(30)"
   ]
  },
  {
   "cell_type": "markdown",
   "id": "a9c99c77-8756-48e3-95a8-03688d4a6483",
   "metadata": {},
   "source": [
    "#### Plot Loss"
   ]
  },
  {
   "cell_type": "code",
   "execution_count": null,
   "id": "351ec6de-7743-487b-9dff-27602abf277f",
   "metadata": {},
   "outputs": [],
   "source": [
    "# Plot Loss\n",
    "def plot_loss(loss, title):\n",
    "    plt.figure(figsize=(20, 3))\n",
    "    plt.plot(loss, label=title)\n",
    "    plt.xlabel('Iteration')\n",
    "    plt.ylabel('Loss')\n",
    "    plt.title(f'{title} per Iteration')\n",
    "    plt.legend()\n",
    "    plt.show()"
   ]
  },
  {
   "cell_type": "code",
   "execution_count": null,
   "id": "a8f8212f-35de-45d6-825d-8b26a7a69de3",
   "metadata": {
    "tags": []
   },
   "outputs": [],
   "source": [
    "# Plot loss\n",
    "losses = json.load(open(get_data() / 'log' / 'losses_caption.json'))\n",
    "plot_loss(losses['train_losses_caption'], 'Loss Caption')"
   ]
  },
  {
   "cell_type": "code",
   "execution_count": null,
   "id": "07a4cb6e-bd5e-4dfb-85f8-59e7b2196a99",
   "metadata": {
    "tags": []
   },
   "outputs": [],
   "source": [
    "# Plot Validation Loss\n",
    "losses = json.load(open(get_data() / 'log' / 'losses_tune.json'))\n",
    "plot_loss(val_losses_caption, 'Loss Caption')"
   ]
  }
 ],
 "metadata": {
  "kernelspec": {
   "display_name": "dlip",
   "language": "python",
   "name": "dlip"
  },
  "language_info": {
   "codemirror_mode": {
    "name": "ipython",
    "version": 3
   },
   "file_extension": ".py",
   "mimetype": "text/x-python",
   "name": "python",
   "nbconvert_exporter": "python",
   "pygments_lexer": "ipython3",
   "version": "3.10.13"
  }
 },
 "nbformat": 4,
 "nbformat_minor": 5
}
