{
 "cells": [
  {
   "cell_type": "markdown",
   "id": "5053e658-31f9-4d9f-980c-f89f7bd1bdca",
   "metadata": {},
   "source": [
    "#### Import Packages"
   ]
  },
  {
   "cell_type": "code",
   "execution_count": null,
   "id": "4886c008-31fc-410f-b0de-267fa3d34768",
   "metadata": {},
   "outputs": [],
   "source": [
    "import pandas as pd\n",
    "import os\n",
    "import urllib.request\n",
    "\n",
    "from concurrent.futures import ThreadPoolExecutor\n",
    "from functools import partial\n",
    "from PIL import Image\n",
    "from datasets import load_dataset\n",
    "from datasets.utils.file_utils import get_datasets_user_agent\n",
    "\n",
    "from utils.system import *\n",
    "from class_data.preprocess import Preprocess"
   ]
  },
  {
   "cell_type": "markdown",
   "id": "38606d90-7924-441d-9a42-e0631068c05a",
   "metadata": {},
   "source": [
    "#### SBU Caption\n",
    "##### https://huggingface.co/datasets/sbu_captions"
   ]
  },
  {
   "cell_type": "code",
   "execution_count": null,
   "id": "dd49ad8f-cd0d-4695-b5a8-8f0fe75b6b03",
   "metadata": {},
   "outputs": [],
   "source": [
    "sbu_caption = load_dataset(\"sbu_captions\")"
   ]
  },
  {
   "cell_type": "code",
   "execution_count": null,
   "id": "015af132-a6a9-469b-bc13-1577c0bea1bc",
   "metadata": {},
   "outputs": [],
   "source": [
    "sbu_caption.set_format(type='pandas')\n",
    "sbu_caption_df = sbu_caption['train'][:]\n",
    "sbu_caption_df = sbu_caption_df[['image_url', 'caption']]\n",
    "sbu_caption_df = sbu_caption_df.rename(columns={'image_url':'image_name'})"
   ]
  },
  {
   "cell_type": "code",
   "execution_count": null,
   "id": "13b0e48c-c7fc-496e-8cde-92068e3b1d52",
   "metadata": {},
   "outputs": [],
   "source": [
    "sbu_caption_preprocess = Preprocess(data=sbu_caption_df, column_name='caption', default_name='caption', type='sbu_train', max_words=30)._preprocess()"
   ]
  },
  {
   "cell_type": "code",
   "execution_count": null,
   "id": "5783bf66-63ff-4ed9-85dd-6597fead2932",
   "metadata": {},
   "outputs": [],
   "source": [
    "folder_path = get_data() / 'sbu' / 'chunks'\n",
    "file_name = 'sbu_train_preprocess'\n",
    "\n",
    "Preprocess(folder_path=folder_path, file_name=file_name, data=sbu_caption_preprocess)._export_in_chunks()"
   ]
  },
  {
   "cell_type": "markdown",
   "id": "3ac35938-820d-41f8-ba9a-ed78922fcd41",
   "metadata": {},
   "source": [
    "#### Fetch Images"
   ]
  },
  {
   "cell_type": "code",
   "execution_count": null,
   "id": "464ba8be-681b-4d0f-9aba-4023a48caf30",
   "metadata": {},
   "outputs": [],
   "source": [
    "USER_AGENT = get_datasets_user_agent()\n",
    "\n",
    "def fetch_and_save_image(image_url, save_dir, image_index, timeout=None, retries=0):\n",
    "    image_name = f\"image_{image_index}.jpg\"\n",
    "    save_path = os.path.join(save_dir, image_name)\n",
    "    for _ in range(retries + 1):\n",
    "        try:\n",
    "            request = urllib.request.Request(image_url, data=None, headers={\"user-agent\": USER_AGENT})\n",
    "            with urllib.request.urlopen(request, timeout=timeout) as req:\n",
    "                with open(save_path, 'wb') as f:\n",
    "                    f.write(req.read())\n",
    "            return save_path\n",
    "        except Exception as e:\n",
    "            print(f\"Error downloading {image_url}: {e}\")\n",
    "            pass\n",
    "    return None\n",
    "\n",
    "def fetch_images_for_df(df, save_dir, num_threads=20, timeout=None, retries=0):\n",
    "    if not os.path.exists(save_dir):\n",
    "        os.makedirs(save_dir)\n",
    "    \n",
    "    with ThreadPoolExecutor(max_workers=num_threads) as executor:\n",
    "        tasks = [(url, save_dir, idx, timeout, retries) for idx, url in enumerate(df['image_url'])]\n",
    "        image_paths = list(executor.map(lambda args: fetch_and_save_image(*args), tasks))\n",
    "\n",
    "    df['image_path'] = image_paths\n",
    "    return df"
   ]
  },
  {
   "cell_type": "code",
   "execution_count": null,
   "id": "fc4e1348-479c-4c7e-b621-3f8754595428",
   "metadata": {},
   "outputs": [],
   "source": [
    "save_directory = get_data() / 'sbu' / 'images'\n",
    "\n",
    "sbu_caption_images = fetch_images_and_save(sbu_caption_preprocess, save_directory, num_threads=100)"
   ]
  }
 ],
 "metadata": {
  "kernelspec": {
   "display_name": "dlip",
   "language": "python",
   "name": "dlip"
  },
  "language_info": {
   "codemirror_mode": {
    "name": "ipython",
    "version": 3
   },
   "file_extension": ".py",
   "mimetype": "text/x-python",
   "name": "python",
   "nbconvert_exporter": "python",
   "pygments_lexer": "ipython3",
   "version": "3.10.13"
  }
 },
 "nbformat": 4,
 "nbformat_minor": 5
}
