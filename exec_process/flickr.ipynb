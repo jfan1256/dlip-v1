{
 "cells": [
  {
   "cell_type": "markdown",
   "id": "677220ae-3060-4756-87d1-cccf078e74ed",
   "metadata": {},
   "source": [
    "#### Import Packages"
   ]
  },
  {
   "cell_type": "code",
   "execution_count": null,
   "id": "a4a81c2d-3b75-4bac-a3ca-29fa656caf53",
   "metadata": {},
   "outputs": [],
   "source": [
    "import pandas as pd\n",
    "\n",
    "from utils.system import *\n",
    "from class_data.preprocess import Preprocess"
   ]
  },
  {
   "cell_type": "markdown",
   "id": "713fbd81-e096-445c-9327-e766b5d099d4",
   "metadata": {},
   "source": [
    "#### Flickr Data\n",
    "##### https://www.kaggle.com/datasets/hsankesara/flickr-image-dataset"
   ]
  },
  {
   "cell_type": "code",
   "execution_count": null,
   "id": "aff6f982-16c1-4a63-b531-308445b6315b",
   "metadata": {},
   "outputs": [],
   "source": [
    "flickr = pd.read_csv(get_data() / 'flickr30k' / 'captions.txt', delimiter=',')"
   ]
  },
  {
   "cell_type": "code",
   "execution_count": null,
   "id": "bc94b081-7909-432c-945c-994d18181985",
   "metadata": {},
   "outputs": [],
   "source": [
    "# Remove duplicate image_name and keep the first comment\n",
    "flickr = flickr.loc[~flickr['image_name'].duplicated(keep='first')].reset_index(level=0, drop=True)\n",
    "flickr = flickr.drop('comment_number', axis=1)\n",
    "flickr.columns = ['image_name', 'caption']"
   ]
  },
  {
   "cell_type": "code",
   "execution_count": null,
   "id": "fdf11282-b3de-48f7-bbd6-e2820df6d55c",
   "metadata": {},
   "outputs": [],
   "source": [
    "flickr_preprocess = Preprocess(data=flickr, column_name='caption', default_name='caption', type='flickr30k_train', max_words=30)._preprocess()"
   ]
  },
  {
   "cell_type": "code",
   "execution_count": null,
   "id": "f54f9e86-a9dd-4f3d-ae7c-7cc1798f84ad",
   "metadata": {},
   "outputs": [],
   "source": [
    "folder_path = get_data() / 'flickr30k' / 'chunks'\n",
    "file_name = 'flickr_train_preprocess'\n",
    "\n",
    "Preprocess(folder_path=folder_path, file_name=file_name, data=flickr_preprocess)._export_in_chunks()"
   ]
  }
 ],
 "metadata": {
  "kernelspec": {
   "display_name": "dlip",
   "language": "python",
   "name": "dlip"
  },
  "language_info": {
   "codemirror_mode": {
    "name": "ipython",
    "version": 3
   },
   "file_extension": ".py",
   "mimetype": "text/x-python",
   "name": "python",
   "nbconvert_exporter": "python",
   "pygments_lexer": "ipython3",
   "version": "3.10.13"
  }
 },
 "nbformat": 4,
 "nbformat_minor": 5
}
