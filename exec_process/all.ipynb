{
 "cells": [
  {
   "cell_type": "markdown",
   "id": "533421e8-1ce8-4605-b58d-aafff41a990f",
   "metadata": {},
   "source": [
    "#### Import Package"
   ]
  },
  {
   "cell_type": "code",
   "execution_count": 1,
   "id": "ea43db15-af82-4720-8cb1-a4f657f51783",
   "metadata": {
    "tags": []
   },
   "outputs": [],
   "source": [
    "import pandas as pd\n",
    "\n",
    "from utils.system import *\n",
    "from class_data.preprocess import Preprocess\n",
    "\n",
    "import warnings\n",
    "\n",
    "warnings.filterwarnings('ignore')"
   ]
  },
  {
   "cell_type": "markdown",
   "id": "5d629763-f0d7-4322-838e-1e94a2b66bff",
   "metadata": {},
   "source": [
    "#### Coco"
   ]
  },
  {
   "cell_type": "code",
   "execution_count": 2,
   "id": "d849cb3b-fb18-4588-8c23-8587de66ddb8",
   "metadata": {
    "tags": []
   },
   "outputs": [],
   "source": [
    "file_pattern = 'coco_train_preprocess_*'\n",
    "folder_path = get_data() / 'coco' / 'chunks'\n",
    "coco_train = Preprocess(folder_path=folder_path, file_pattern=file_pattern)._concat_files()"
   ]
  },
  {
   "cell_type": "code",
   "execution_count": 3,
   "id": "3df23037-63fd-4da1-ad58-a2d49efe7c6b",
   "metadata": {
    "tags": []
   },
   "outputs": [],
   "source": [
    "file_pattern = 'coco_val_preprocess_*'\n",
    "folder_path = get_data() / 'coco' / 'chunks'\n",
    "coco_val = Preprocess(folder_path=folder_path, file_pattern=file_pattern)._concat_files()"
   ]
  },
  {
   "cell_type": "markdown",
   "id": "7232318d-57aa-4ac9-a0ca-673cb577a221",
   "metadata": {},
   "source": [
    "#### Flickr30k"
   ]
  },
  {
   "cell_type": "code",
   "execution_count": 4,
   "id": "e67dc104-8e9e-40bc-9089-f2c35d9df60f",
   "metadata": {
    "tags": []
   },
   "outputs": [],
   "source": [
    "file_pattern = 'flickr_train_preprocess_*.parquet.brotli'\n",
    "folder_path = get_data() / 'flickr30k' / 'chunks'\n",
    "flickr_train = Preprocess(folder_path=folder_path, file_pattern=file_pattern)._concat_files()"
   ]
  },
  {
   "cell_type": "markdown",
   "id": "d481c020-6bed-4f8c-baba-bd7a8b5b3e0a",
   "metadata": {},
   "source": [
    "#### GCC"
   ]
  },
  {
   "cell_type": "code",
   "execution_count": 5,
   "id": "1c2d3f80-855c-4974-80b2-4d49e2124414",
   "metadata": {},
   "outputs": [],
   "source": [
    "file_pattern = 'gcc_train_preprocess_*'\n",
    "folder_path = get_data() / 'gcc' / 'chunks'\n",
    "gcc_train = Preprocess(folder_path=folder_path, file_pattern=file_pattern)._concat_files()"
   ]
  },
  {
   "cell_type": "code",
   "execution_count": 6,
   "id": "4cf66f6b-1ae2-46d4-ae50-e5d71d03fc1b",
   "metadata": {},
   "outputs": [],
   "source": [
    "file_pattern = 'gcc_val_preprocess_*'\n",
    "folder_path = get_data() / 'gcc' / 'chunks'\n",
    "gcc_val = Preprocess(folder_path=folder_path, file_pattern=file_pattern)._concat_files()"
   ]
  },
  {
   "cell_type": "markdown",
   "id": "a33844cd-ea38-43dc-904f-772f24a6130a",
   "metadata": {},
   "source": [
    "#### SBU"
   ]
  },
  {
   "cell_type": "code",
   "execution_count": 7,
   "id": "db8ac00a-cc4d-4454-bb7e-79172a2b0f82",
   "metadata": {},
   "outputs": [],
   "source": [
    "file_pattern = 'sbu_train_preprocess_*'\n",
    "folder_path = get_data() / 'sbu' / 'chunks'\n",
    "sbu_train = Preprocess(folder_path=folder_path, file_pattern=file_pattern)._concat_files()"
   ]
  },
  {
   "cell_type": "markdown",
   "id": "7c65eb0d-9f32-4826-b45f-f018b427dff9",
   "metadata": {},
   "source": [
    "#### Concatenate All"
   ]
  },
  {
   "cell_type": "code",
   "execution_count": 8,
   "id": "14838633-05ba-4050-a843-e1dc77c23681",
   "metadata": {
    "tags": []
   },
   "outputs": [
    {
     "name": "stdout",
     "output_type": "stream",
     "text": [
      "Number of images: 4982723\n"
     ]
    }
   ],
   "source": [
    "# Create 5M dataset\n",
    "all_data = pd.concat([coco_train, coco_val, flickr_train, gcc_train, gcc_val, sbu_train], axis=0).reset_index(level=0, drop=True)\n",
    "# Shuffle Dataset\n",
    "all_data = all_data.sample(frac=1).reset_index(drop=True)\n",
    "# Rename indx name\n",
    "all_data.index.names = ['id']\n",
    "# Print count\n",
    "print(f\"Number of images: {len(all_data)}\")"
   ]
  },
  {
   "cell_type": "code",
   "execution_count": 9,
   "id": "8f816f44-ba16-4f8d-b2d2-b1ee80b4acec",
   "metadata": {
    "tags": []
   },
   "outputs": [
    {
     "name": "stdout",
     "output_type": "stream",
     "text": [
      "Exporting chunk: 1/10\n",
      "Exporting chunk: 2/10\n",
      "Exporting chunk: 3/10\n",
      "Exporting chunk: 4/10\n",
      "Exporting chunk: 5/10\n",
      "Exporting chunk: 6/10\n",
      "Exporting chunk: 7/10\n",
      "Exporting chunk: 8/10\n",
      "Exporting chunk: 9/10\n",
      "Exporting chunk: 10/10\n"
     ]
    }
   ],
   "source": [
    "folder_path = get_data() / 'all' / 'chunks'\n",
    "file_name = 'all_data_tokenize'\n",
    "\n",
    "Preprocess(folder_path=folder_path, file_name=file_name, data=all_data)._export_in_chunks()"
   ]
  },
  {
   "cell_type": "markdown",
   "id": "d993bf85-1300-4cc3-9286-c37acd5541e4",
   "metadata": {},
   "source": [
    "#### Concatenate Download"
   ]
  },
  {
   "cell_type": "code",
   "execution_count": 10,
   "id": "96b448c0-5bda-4b4a-b2ba-cc260f914b15",
   "metadata": {
    "tags": []
   },
   "outputs": [
    {
     "name": "stdout",
     "output_type": "stream",
     "text": [
      "Number of images: 648550\n"
     ]
    }
   ],
   "source": [
    "# Create 600K dataset\n",
    "download_data = pd.concat([coco_train, coco_val, flickr_train], axis=0).reset_index(level=0, drop=True)\n",
    "# Shuffle Dataset\n",
    "download_data = download_data.sample(frac=1).reset_index(drop=True)\n",
    "# Rename indx name\n",
    "download_data.index.names = ['id']\n",
    "# Print count\n",
    "print(f\"Number of images: {len(download_data)}\")"
   ]
  },
  {
   "cell_type": "code",
   "execution_count": 11,
   "id": "f401f83e-12db-44e3-adb2-497023204bb5",
   "metadata": {
    "tags": []
   },
   "outputs": [
    {
     "name": "stdout",
     "output_type": "stream",
     "text": [
      "Exporting chunk: 1/10\n",
      "Exporting chunk: 2/10\n",
      "Exporting chunk: 3/10\n",
      "Exporting chunk: 4/10\n",
      "Exporting chunk: 5/10\n",
      "Exporting chunk: 6/10\n",
      "Exporting chunk: 7/10\n",
      "Exporting chunk: 8/10\n",
      "Exporting chunk: 9/10\n",
      "Exporting chunk: 10/10\n"
     ]
    }
   ],
   "source": [
    "folder_path = get_data() / 'download' / 'chunks'\n",
    "file_name = 'download_data_tokenize'\n",
    "\n",
    "Preprocess(folder_path=folder_path, file_name=file_name, data=download_data)._export_in_chunks()"
   ]
  }
 ],
 "metadata": {
  "kernelspec": {
   "display_name": "dlip",
   "language": "python",
   "name": "dlip"
  },
  "language_info": {
   "codemirror_mode": {
    "name": "ipython",
    "version": 3
   },
   "file_extension": ".py",
   "mimetype": "text/x-python",
   "name": "python",
   "nbconvert_exporter": "python",
   "pygments_lexer": "ipython3",
   "version": "3.10.13"
  }
 },
 "nbformat": 4,
 "nbformat_minor": 5
}
