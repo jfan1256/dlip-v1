{
 "cells": [
  {
   "cell_type": "markdown",
   "id": "2ae6fbf9-bb1b-4625-af9a-fbcb51e749d5",
   "metadata": {},
   "source": [
    "#### Import Packages"
   ]
  },
  {
   "cell_type": "code",
   "execution_count": null,
   "id": "d4c8a254-d1da-46de-a4dc-af6900bac057",
   "metadata": {},
   "outputs": [],
   "source": [
    "import pandas as pd\n",
    "import json\n",
    "\n",
    "from utils.system import *\n",
    "from class_data.preprocess import Preprocess"
   ]
  },
  {
   "cell_type": "markdown",
   "id": "584b67ce-89de-405c-8dd5-2be3e47db972",
   "metadata": {},
   "source": [
    "#### Download Coco Dataset"
   ]
  },
  {
   "cell_type": "markdown",
   "id": "4640bb7c-8750-41e1-956d-9e78cd6c2c1f",
   "metadata": {},
   "source": [
    "##### For Windows: Run commands one-by-one in multiple command prompts\n",
    "##### Note: COCO gsutil -m rsync is out-of-service"
   ]
  },
  {
   "cell_type": "markdown",
   "id": "fec80794-9216-4c8f-a1b8-834d5198ccae",
   "metadata": {},
   "source": [
    "##### Train"
   ]
  },
  {
   "cell_type": "markdown",
   "id": "c43ecbb8-bb10-4784-9995-6b9c6e765a11",
   "metadata": {},
   "source": [
    "cd C:\\Jonathan\\DistillationResearch\\dlip-replication\\data\\coco\\images\n",
    "\n",
    "curl -C - -o \"C:\\Jonathan\\DistillationResearch\\dlip-replication\\data\\coco\\images\\train2017.zip\" http://images.cocodataset.org/zips/train2017.zip\n",
    "\n",
    "powershell -command \"Expand-Archive -Path \\\"C:\\Jonathan\\DistillationResearch\\dlip-replication\\data\\coco\\images\\train2017.zip\\\" -DestinationPath \\\"C:\\Jonathan\\DistillationResearch\\dlip-replication\\data\\coco\\images\\train2017\\\"\"\n",
    "\n",
    "del \"C:\\Jonathan\\DistillationResearch\\dlip-replication\\data\\coco\\images\\train2017.zip\"ip\"\n",
    "\n",
    "me\n"
   ]
  },
  {
   "cell_type": "markdown",
   "id": "b41760dd-71ce-458c-bdaf-529d2f7f2d9b",
   "metadata": {},
   "source": [
    "##### Val (Run this in Command Prompt)"
   ]
  },
  {
   "cell_type": "markdown",
   "id": "45efb1aa-c592-4b9a-86e3-81da7672a113",
   "metadata": {},
   "source": [
    "cd C:\\Jonathan\\DistillationResearch\\dlip-replication\\data\\coco\\images\n",
    "\n",
    "curl -o \"C:\\Jonathan\\DistillationResearch\\dlip-replication\\data\\coco\\images\\val2017.zip\" http://images.cocodataset.org/zips/val2017.zip\n",
    "\n",
    "powershell -command \"Expand-Archive -Path \\\"C:\\Jonathan\\DistillationResearch\\dlip-replication\\data\\coco\\images\\val2017.zip\\\" -DestinationPath \\\"C:\\Jonathan\\DistillationResearch\\dlip-replication\\data\\coco\\images\\val2017\\\"\"\n",
    "\n",
    "del \"C:\\Jonathan\\DistillationResearch\\dlip-replication\\data\\coco\\images\\val2017.zip\""
   ]
  },
  {
   "cell_type": "markdown",
   "id": "0c5e4423-fe64-4827-8748-ec5868474714",
   "metadata": {},
   "source": [
    "##### Annotations (Run this in Command Prompt)"
   ]
  },
  {
   "cell_type": "markdown",
   "id": "00229501-fdbe-4223-907c-1cf7d39bc3c1",
   "metadata": {},
   "source": [
    "cd C:\\Jonathan\\DistillationResearch\\dlip-replication\\data\\coco\\annotations\n",
    "\n",
    "curl -o \"C:\\Jonathan\\DistillationResearch\\dlip-replication\\data\\coco\\annotations\\annotations_trainval2017.zip\" http://images.cocodataset.org/annotations/annotations_trainval2017.7.zip\n",
    "\n",
    "powershell -command \"Expand-Archive -Path \\\"C:\\Jonathan\\DistillationResearch\\dlip-replication\\data\\coco\\annotations\\annotations_trainval2017.zip\\\" -DestinationPath \\\"C:\\Jonathan\\DistillationResearch\\dlip-replication\\data\\coco\\annotatations\\\"\"\n",
    "\n",
    "del \"C:\\Jonathan\\DistillationResearch\\dlip-replication\\data\\coco\\annotations\\annotations_trainval2017.zip\"\n"
   ]
  },
  {
   "cell_type": "markdown",
   "id": "1bdf0903-41bc-4321-af23-ceb49ffbb495",
   "metadata": {},
   "source": [
    "#### Coco Train"
   ]
  },
  {
   "cell_type": "code",
   "execution_count": null,
   "id": "086dc0a8-83f9-486d-99b6-b4dffdc5ac5c",
   "metadata": {},
   "outputs": [],
   "source": [
    "with open(get_data() / 'coco' / 'annotations' / 'captions_train2017.json', 'r') as file:\n",
    "    train2017_caption_json = json.load(file)\n",
    "\n",
    "train2017_img = pd.DataFrame(train2017_caption_json['images'])\n",
    "train2017_caption = pd.DataFrame(train2017_caption_json['annotations'])\n",
    "train2017_caption = train2017_caption.drop(columns='id', axis=1)\n",
    "train2017_caption = train2017_caption.rename(columns={'image_id':'id'})"
   ]
  },
  {
   "cell_type": "code",
   "execution_count": null,
   "id": "01507c3b-7709-402d-80f1-88ffac5cc3f6",
   "metadata": {},
   "outputs": [],
   "source": [
    "train2017 = pd.merge(train2017_img, train2017_caption, on='id', how='inner')\n",
    "train2017 = train2017[['file_name', 'caption']]\n",
    "train2017.columns = ['image_name', 'caption']"
   ]
  },
  {
   "cell_type": "code",
   "execution_count": null,
   "id": "57f37a59-1d18-4c4b-83ef-ce955268e1d1",
   "metadata": {
    "tags": []
   },
   "outputs": [],
   "source": [
    "# train2017 = train2017.drop_duplicates(subset='image_name', keep='first')"
   ]
  },
  {
   "cell_type": "code",
   "execution_count": null,
   "id": "8e72ca51-6740-41f1-9641-d9bf56b57ebb",
   "metadata": {},
   "outputs": [],
   "source": [
    "train2017_preprocess = Preprocess(data=train2017, column_name='caption', default_name='caption', type='coco_train', max_words=30)._preprocess()"
   ]
  },
  {
   "cell_type": "code",
   "execution_count": null,
   "id": "83309b21-b5fc-4f1f-8225-408210259c0d",
   "metadata": {},
   "outputs": [],
   "source": [
    "folder_path = get_data() / 'coco' / 'chunks'\n",
    "file_name = 'coco_train_preprocess'\n",
    "\n",
    "Preprocess(folder_path=folder_path, file_name=file_name, data=train2017_preprocess)._export_in_chunks()"
   ]
  },
  {
   "cell_type": "markdown",
   "id": "4f4c12e6-45fa-491d-9005-d3cba6bdeccc",
   "metadata": {},
   "source": [
    "#### Coco Val"
   ]
  },
  {
   "cell_type": "code",
   "execution_count": null,
   "id": "334e6c33-3cce-49a4-99df-69b1ac9ff2d4",
   "metadata": {},
   "outputs": [],
   "source": [
    "with open(get_data() / 'coco' / 'annotations' / 'captions_val2017.json', 'r') as file:\n",
    "    val2017_caption_json = json.load(file)\n",
    "\n",
    "val2017_img = pd.DataFrame(val2017_caption_json['images'])\n",
    "val2017_caption = pd.DataFrame(val2017_caption_json['annotations'])\n",
    "val2017_caption = val2017_caption.drop(columns='id', axis=1)\n",
    "val2017_caption = val2017_caption.rename(columns={'image_id':'id'})"
   ]
  },
  {
   "cell_type": "code",
   "execution_count": null,
   "id": "c48960b8-778e-4d80-9188-611f6c3c2bdc",
   "metadata": {},
   "outputs": [],
   "source": [
    "val2017 = pd.merge(val2017_img, val2017_caption, on='id', how='inner')\n",
    "val2017 = val2017[['file_name', 'caption']]\n",
    "val2017.columns = ['image_name', 'caption']"
   ]
  },
  {
   "cell_type": "code",
   "execution_count": null,
   "id": "0296888f-e04a-475d-8ca8-2a5b066a462b",
   "metadata": {
    "tags": []
   },
   "outputs": [],
   "source": [
    "# val2017 = val2017.drop_duplicates(subset='image_name', keep='first')"
   ]
  },
  {
   "cell_type": "code",
   "execution_count": null,
   "id": "5be91419-84c6-415b-84bd-19788c3a3c9d",
   "metadata": {},
   "outputs": [],
   "source": [
    "val2017_preprocess = Preprocess(data=val2017, column_name='caption', default_name='caption', type='coco_val', max_words=30)._preprocess()"
   ]
  },
  {
   "cell_type": "code",
   "execution_count": null,
   "id": "2adace38-3a3a-4ac1-9304-bf5e49c245ba",
   "metadata": {},
   "outputs": [],
   "source": [
    "folder_path = get_data() / 'coco' / 'chunks'\n",
    "file_name = 'coco_val_preprocess'\n",
    "\n",
    "Preprocess(folder_path=folder_path, file_name=file_name, data=val2017_preprocess)._export_in_chunks()"
   ]
  }
 ],
 "metadata": {
  "kernelspec": {
   "display_name": "dlip",
   "language": "python",
   "name": "dlip"
  },
  "language_info": {
   "codemirror_mode": {
    "name": "ipython",
    "version": 3
   },
   "file_extension": ".py",
   "mimetype": "text/x-python",
   "name": "python",
   "nbconvert_exporter": "python",
   "pygments_lexer": "ipython3",
   "version": "3.10.13"
  }
 },
 "nbformat": 4,
 "nbformat_minor": 5
}
