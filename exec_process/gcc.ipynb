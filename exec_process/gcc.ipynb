{
 "cells": [
  {
   "cell_type": "markdown",
   "id": "97237e50-bd59-46f1-9671-8c473f6175cd",
   "metadata": {},
   "source": [
    "#### Import Package"
   ]
  },
  {
   "cell_type": "code",
   "execution_count": null,
   "id": "89c4afa2-23d7-456c-b34a-f97e93bca06d",
   "metadata": {},
   "outputs": [],
   "source": [
    "import pandas as pd\n",
    "import io\n",
    "import ray\n",
    "import urllib\n",
    "import warnings\n",
    "\n",
    "warnings.filterwarnings('ignore')\n",
    "\n",
    "from utils.system import *\n",
    "from class_data.preprocess import Preprocess\n",
    "\n",
    "from PIL import Image\n",
    "from torch.utils.data import Dataset\n",
    "from datasets.utils.file_utils import get_datasets_user_agent\n",
    "\n",
    "USER_AGENT = get_datasets_user_agent()"
   ]
  },
  {
   "cell_type": "markdown",
   "id": "7eb18dec-3272-423c-95e5-7635e90e1e67",
   "metadata": {},
   "source": [
    "#### Valid"
   ]
  },
  {
   "cell_type": "code",
   "execution_count": null,
   "id": "0624b347-03d7-487b-b87a-fa503311c1ee",
   "metadata": {},
   "outputs": [],
   "source": [
    "# Fetch image from url\n",
    "def fetch_image_url(image_url, timeout=None, retries=0):\n",
    "    for _ in range(retries + 1):\n",
    "        try:\n",
    "            request = urllib.request.Request(\n",
    "                image_url,\n",
    "                data=None,\n",
    "                headers={\"user-agent\": USER_AGENT},\n",
    "            )\n",
    "            with urllib.request.urlopen(request, timeout=timeout) as req:\n",
    "                image = Image.open(io.BytesIO(req.read()))\n",
    "            break\n",
    "        except Exception as e:\n",
    "            image = None\n",
    "    return image\n",
    "\n",
    "@ray.remote\n",
    "def fetch(image_url):\n",
    "    image = fetch_image_url(image_url, timeout=None, retries=0)\n",
    "    if image == None:\n",
    "        return False\n",
    "    else:\n",
    "        return True\n",
    "\n",
    "def invalid_url(batch_size, data, num_cpu, image_column, valid_column):\n",
    "    ray.init(num_cpus=num_cpu, ignore_reinit_error=True)\n",
    "\n",
    "    # Initialize variables for results\n",
    "    invalid_collect = []\n",
    "\n",
    "    # Process each batch sequentially\n",
    "    total_batches = (len(data[image_column]) + batch_size - 1) // batch_size\n",
    "    for i in range(0, len(data[image_column]), batch_size):\n",
    "        current_batch = i // batch_size + 1\n",
    "        print(f\"Processing batch: {current_batch}/{total_batches}\")\n",
    "        batch = data[image_column][i:i + batch_size]\n",
    "        futures = [fetch.remote(img) for img in batch]\n",
    "        result = ray.get(futures)\n",
    "        invalid_collect.extend(result)\n",
    "\n",
    "    data.loc[:, valid_column] = invalid_collect\n",
    "    ray.shutdown()\n",
    "    return data"
   ]
  },
  {
   "cell_type": "code",
   "execution_count": null,
   "id": "0b0f5628-7b05-4cb0-a41f-7b88c9a9e96e",
   "metadata": {},
   "outputs": [],
   "source": [
    "gcc_train_valid = invalid_url(batch_size=1, data=gcc_train.head(10), num_cpu=16, image_column='image_name', valid_column='valid')"
   ]
  },
  {
   "cell_type": "markdown",
   "id": "775f33e3-607f-4ffe-88b2-8737586a89b1",
   "metadata": {},
   "source": [
    "#### GCC Train\n",
    "##### https://huggingface.co/datasets/conceptual_captions"
   ]
  },
  {
   "cell_type": "code",
   "execution_count": null,
   "id": "72b32865-a6f7-4f1a-9419-b3b21c118cf7",
   "metadata": {},
   "outputs": [],
   "source": [
    "gcc_train = pd.read_csv(get_data() / 'gcc' / 'gcc_train.tsv', sep='\\t', header=None, names=['caption', 'image_name'])"
   ]
  },
  {
   "cell_type": "code",
   "execution_count": null,
   "id": "0823d3d6-c06f-42c0-bc37-0972a638bacb",
   "metadata": {},
   "outputs": [],
   "source": [
    "gcc_train_preprocess = Preprocess(data=gcc_train, column_name='caption', default_name='caption', type='gcc_train', max_words=30)._preprocess()"
   ]
  },
  {
   "cell_type": "code",
   "execution_count": null,
   "id": "87b7f763-7630-414d-951a-6f56f34e482f",
   "metadata": {},
   "outputs": [],
   "source": [
    "folder_path = get_data() / 'gcc' / 'chunks'\n",
    "file_name = 'gcc_train_preprocess'\n",
    "\n",
    "Preprocess(folder_path=folder_path, file_name=file_name, data=gcc_train_preprocess)._export_in_chunks()"
   ]
  },
  {
   "cell_type": "markdown",
   "id": "e51ab578-108d-4964-9587-1edc14636c73",
   "metadata": {},
   "source": [
    "#### GCC Val"
   ]
  },
  {
   "cell_type": "code",
   "execution_count": null,
   "id": "95d04c43-ac76-4e1f-85f9-e14e6c07fe8d",
   "metadata": {},
   "outputs": [],
   "source": [
    "gcc_val = pd.read_csv(get_data() / 'gcc' / 'gcc_val.tsv', sep='\\t', header=None, names=['caption', 'image_name'])"
   ]
  },
  {
   "cell_type": "code",
   "execution_count": null,
   "id": "3978dc92-c9b2-42f2-8235-52d0b19f1af8",
   "metadata": {},
   "outputs": [],
   "source": [
    "gcc_val_preprocess = Preprocess(data=gcc_val, column_name='caption', default_name='caption', type='gcc_val', max_words=30)._preprocess()"
   ]
  },
  {
   "cell_type": "code",
   "execution_count": null,
   "id": "c03f49db-db45-4015-8a1a-d1d3aae7b080",
   "metadata": {},
   "outputs": [],
   "source": [
    "folder_path = get_data() / 'gcc' / 'chunks'\n",
    "file_name = 'gcc_val_preprocess'\n",
    "\n",
    "Preprocess(folder_path=folder_path, file_name=file_name, data=gcc_val_preprocess)._export_in_chunks()"
   ]
  }
 ],
 "metadata": {
  "kernelspec": {
   "display_name": "dlip",
   "language": "python",
   "name": "dlip"
  },
  "language_info": {
   "codemirror_mode": {
    "name": "ipython",
    "version": 3
   },
   "file_extension": ".py",
   "mimetype": "text/x-python",
   "name": "python",
   "nbconvert_exporter": "python",
   "pygments_lexer": "ipython3",
   "version": "3.10.13"
  }
 },
 "nbformat": 4,
 "nbformat_minor": 5
}
